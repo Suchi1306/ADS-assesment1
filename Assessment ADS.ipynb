{
 "cells": [
  {
   "cell_type": "code",
   "execution_count": 1,
   "metadata": {},
   "outputs": [
    {
     "name": "stdout",
     "output_type": "stream",
     "text": [
      "Requirement already satisfied: wikipedia in ./anaconda3/lib/python3.7/site-packages (1.4.0)\n",
      "Requirement already satisfied: requests<3.0.0,>=2.0.0 in ./anaconda3/lib/python3.7/site-packages (from wikipedia) (2.22.0)\n",
      "Requirement already satisfied: beautifulsoup4 in ./anaconda3/lib/python3.7/site-packages (from wikipedia) (4.7.1)\n",
      "Requirement already satisfied: certifi>=2017.4.17 in ./anaconda3/lib/python3.7/site-packages (from requests<3.0.0,>=2.0.0->wikipedia) (2019.6.16)\n",
      "Requirement already satisfied: chardet<3.1.0,>=3.0.2 in ./anaconda3/lib/python3.7/site-packages (from requests<3.0.0,>=2.0.0->wikipedia) (3.0.4)\n",
      "Requirement already satisfied: idna<2.9,>=2.5 in ./anaconda3/lib/python3.7/site-packages (from requests<3.0.0,>=2.0.0->wikipedia) (2.8)\n",
      "Requirement already satisfied: urllib3!=1.25.0,!=1.25.1,<1.26,>=1.21.1 in ./anaconda3/lib/python3.7/site-packages (from requests<3.0.0,>=2.0.0->wikipedia) (1.24.2)\n",
      "Requirement already satisfied: soupsieve>=1.2 in ./anaconda3/lib/python3.7/site-packages (from beautifulsoup4->wikipedia) (1.8)\n",
      "Note: you may need to restart the kernel to use updated packages.\n"
     ]
    }
   ],
   "source": [
    "pip install wikipedia"
   ]
  },
  {
   "cell_type": "code",
   "execution_count": 2,
   "metadata": {},
   "outputs": [],
   "source": [
    "import wikipedia\n",
    "import re"
   ]
  },
  {
   "cell_type": "code",
   "execution_count": 3,
   "metadata": {},
   "outputs": [],
   "source": [
    "wikipedia.set_lang(\"en\")  \n",
    "\n",
    "#extracting the First data from Wiki\n",
    "olygame =wikipedia.page(\"Olympic Games\").content\n",
    "olylk = wikipedia.page(\"Olympic Games\").links"
   ]
  },
  {
   "cell_type": "code",
   "execution_count": 4,
   "metadata": {},
   "outputs": [],
   "source": [
    "# running a for loop to contribute contents from links in page to the olygame document\n",
    "for i in olylk[:7]:\n",
    "  try:\n",
    "    olynw = wikipedia.page(i).content\n",
    "    olygame = olygame + olynw\n",
    "  except:\n",
    "    pass"
   ]
  },
  {
   "cell_type": "code",
   "execution_count": 5,
   "metadata": {},
   "outputs": [
    {
     "data": {
      "text/plain": [
       "33422"
      ]
     },
     "execution_count": 5,
     "metadata": {},
     "output_type": "execute_result"
    }
   ],
   "source": [
    "# word count of document olygame\n",
    "len(olygame.split())"
   ]
  },
  {
   "cell_type": "code",
   "execution_count": 6,
   "metadata": {},
   "outputs": [],
   "source": [
    "sport =wikipedia.page(\"Sports\").content\n",
    "sportlk = wikipedia.page(\"Sports\").links"
   ]
  },
  {
   "cell_type": "code",
   "execution_count": 7,
   "metadata": {},
   "outputs": [],
   "source": [
    "for i in sportlk[:10]:\n",
    "  try:\n",
    "    sp = wikipedia.page(i).content\n",
    "    sport = sport + sp\n",
    "  except:\n",
    "    pass"
   ]
  },
  {
   "cell_type": "code",
   "execution_count": 8,
   "metadata": {},
   "outputs": [
    {
     "data": {
      "text/plain": [
       "31194"
      ]
     },
     "execution_count": 8,
     "metadata": {},
     "output_type": "execute_result"
    }
   ],
   "source": [
    "len(sport.split())"
   ]
  },
  {
   "cell_type": "code",
   "execution_count": 205,
   "metadata": {},
   "outputs": [],
   "source": [
    "# using Regex generator to identiy the pattern of Choi notation in both the doc\n",
    "#replacing them by ========== as shown in basseyen\n",
    "olygame= re.sub(r\"(==\\s(.+)\\s==)|(===\\s(.+)\\s===)|(====\\s(.+)\\s====)\", \"\\n==========\\n\", olygame)\n",
    "sport = re.sub(r\"(==\\s(.+)\\s==)|(===\\s(.+)\\s===)|(====\\s(.+)\\s====)\", \"\\n==========\\n\", sport)"
   ]
  },
  {
   "cell_type": "code",
   "execution_count": 274,
   "metadata": {},
   "outputs": [],
   "source": [
    "with open('doc1.txt','w') as f:\n",
    "  f.write(olygame)\n",
    "e = open(\"doc1.txt\",\"r\")\n",
    "#print(e.read())\n",
    "\n",
    "# create a segment for doc1\n",
    "seg1 = e.read().split('\\n') "
   ]
  },
  {
   "cell_type": "code",
   "execution_count": 275,
   "metadata": {},
   "outputs": [],
   "source": [
    "with open('doc2.txt','w') as f:\n",
    "  f.write(sport)\n",
    "f = open(\"doc2.txt\",\"r\")\n",
    "#print(f.read())\n",
    "\n",
    "#create a segment for doc2\n",
    "seg2 = f.read().split('\\n')"
   ]
  },
  {
   "cell_type": "code",
   "execution_count": 276,
   "metadata": {},
   "outputs": [
    {
     "data": {
      "text/plain": [
       "1495"
      ]
     },
     "execution_count": 276,
     "metadata": {},
     "output_type": "execute_result"
    }
   ],
   "source": [
    "#number of Segment for doc1\n",
    "doc1 = len(seg1)\n",
    "doc1"
   ]
  },
  {
   "cell_type": "code",
   "execution_count": 277,
   "metadata": {},
   "outputs": [
    {
     "data": {
      "text/plain": [
       "2217"
      ]
     },
     "execution_count": 277,
     "metadata": {},
     "output_type": "execute_result"
    }
   ],
   "source": [
    "#number of segment for doc 2\n",
    "doc2 = len(seg2)\n",
    "doc2"
   ]
  },
  {
   "cell_type": "code",
   "execution_count": 278,
   "metadata": {},
   "outputs": [
    {
     "data": {
      "text/plain": [
       "1495"
      ]
     },
     "execution_count": 278,
     "metadata": {},
     "output_type": "execute_result"
    }
   ],
   "source": [
    "compdoc=min(doc1,doc2)\n",
    "compdoc"
   ]
  },
  {
   "cell_type": "code",
   "execution_count": 298,
   "metadata": {},
   "outputs": [],
   "source": [
    "#creating a composite doc \n",
    "comp = \"\\n==========\\n\"\n",
    "for i in range(compdoc):\n",
    "    comp=comp+seg1[i]+\"\\n==========\\n\"\n",
    "    comp=comp+seg2[i]+\"\\n==========\\n\"\n",
    "#print(comp)"
   ]
  },
  {
   "cell_type": "code",
   "execution_count": 299,
   "metadata": {},
   "outputs": [],
   "source": [
    "with open('composite.txt','w') as f:\n",
    "  f.write(comp)"
   ]
  },
  {
   "cell_type": "code",
   "execution_count": null,
   "metadata": {},
   "outputs": [],
   "source": []
  }
 ],
 "metadata": {
  "kernelspec": {
   "display_name": "Python 3",
   "language": "python",
   "name": "python3"
  },
  "language_info": {
   "codemirror_mode": {
    "name": "ipython",
    "version": 3
   },
   "file_extension": ".py",
   "mimetype": "text/x-python",
   "name": "python",
   "nbconvert_exporter": "python",
   "pygments_lexer": "ipython3",
   "version": "3.7.3"
  }
 },
 "nbformat": 4,
 "nbformat_minor": 2
}
